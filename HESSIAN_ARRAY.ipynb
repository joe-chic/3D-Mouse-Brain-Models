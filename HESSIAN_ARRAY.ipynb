import numpy as np

A = np.array([[-1,-5],[5,7],
              [-6,9],[9,-8],
              [-6,-9],[-26,-8]])

print(A[0],'\n')

print(A,'\n')

A[ (np.array([i[0] for i in A]) > 0) | (np.array([i[1] for i in A]) > 0) ] = 0

print(A,'\n')

for num in range(len(A)):
    print(num)
    A[ num ] = [A[num][1] if A[num][0] > A[num][1] else A[num][0]]

A = np.delete(A,(0,0),axis=1)

print(A,'\n')
print(A[0],'\n')